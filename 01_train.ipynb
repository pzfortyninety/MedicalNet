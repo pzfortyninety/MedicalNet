{
 "cells": [
  {
   "cell_type": "code",
   "execution_count": null,
   "id": "15d8cbb7",
   "metadata": {},
   "outputs": [],
   "source": [
    "import torch\n",
    "import numpy as np\n",
    "from torch import nn\n",
    "from torch import optim\n",
    "from torch.optim import lr_scheduler\n",
    "from torch.utils.data import DataLoader\n",
    "import time\n",
    "from utils.logger import log\n",
    "from scipy import ndimage\n",
    "import os\n",
    "from engine.train_loop import train_3d_cnn\n",
    "\n",
    "import spinecnn_CONFIG\n",
    "from datasets.brains18 import BrainS18Dataset \n",
    "from model_zoo.builder import generate_model"
   ]
  },
  {
   "cell_type": "code",
   "execution_count": null,
   "id": "60c96390",
   "metadata": {},
   "outputs": [],
   "source": [
    "# Config; also makes sure they exist in spinecnn_CONFIG.py\n",
    "RNG_SEED = spinecnn_CONFIG.RNG_SEED\n",
    "LEARNING_RATE = spinecnn_CONFIG.LEARNING_RATE\n",
    "CHECKPOINT_PATH = spinecnn_CONFIG.CHECKPOINT_PATH\n",
    "BATCH_SIZE = spinecnn_CONFIG.BATCH_SIZE\n",
    "NUM_WORKERS = spinecnn_CONFIG.NUM_WORKERS\n",
    "PIN_MEMORY = spinecnn_CONFIG.PIN_MEMORY\n",
    "DATA_FOLDER = spinecnn_CONFIG.DATA_FOLDER\n",
    "TRAINING_DATA_LIST = spinecnn_CONFIG.TRAINING_DATA_LIST\n",
    "SAVE_FOLDER = spinecnn_CONFIG.SAVE_FOLDER\n",
    "NUM_EPOCHS = spinecnn_CONFIG.NUM_EPOCHS\n",
    "SAVE_INTERVALS = spinecnn_CONFIG.SAVE_INTERVALS\n",
    "NEW_LAYER_NAMES = spinecnn_CONFIG.NEW_LAYER_NAMES\n",
    "INPUT_W = spinecnn_CONFIG.INPUT_W\n",
    "INPUT_H = spinecnn_CONFIG.INPUT_H\n",
    "INPUT_D = spinecnn_CONFIG.INPUT_D\n",
    "PRETRAIN_PATH = spinecnn_CONFIG.PRETRAIN_PATH\n",
    "MODEL_TYPE = spinecnn_CONFIG.MODEL_TYPE\n",
    "MODEL_DEPTH = spinecnn_CONFIG.MODEL_DEPTH\n",
    "RESNET_SHORTCUT = spinecnn_CONFIG.RESNET_SHORTCUT\n",
    "NO_CUDA = spinecnn_CONFIG.NO_CUDA\n",
    "NUM_CLASSES = spinecnn_CONFIG.NUM_CLASSES\n",
    "GPU_ID = spinecnn_CONFIG.GPU_ID"
   ]
  },
  {
   "cell_type": "code",
   "execution_count": null,
   "id": "2d9a4254",
   "metadata": {},
   "outputs": [],
   "source": [
    "# getting model\n",
    "torch.manual_seed(RNG_SEED)\n",
    "model, parameters = generate_model(MODEL_TYPE, MODEL_DEPTH,\n",
    "                INPUT_W, INPUT_H, INPUT_D, NUM_CLASSES,\n",
    "                NEW_LAYER_NAMES, PRETRAIN_PATH,\n",
    "                RESNET_SHORTCUT, NO_CUDA, GPU_ID,\n",
    "                model_phase='train')\n",
    "print(model)"
   ]
  },
  {
   "cell_type": "code",
   "execution_count": null,
   "id": "67c50b41",
   "metadata": {},
   "outputs": [],
   "source": [
    "# optimizer\n",
    "params = [\n",
    "            { 'params': parameters['base_parameters'], 'lr': LEARNING_RATE }, \n",
    "            { 'params': parameters['new_parameters'], 'lr': LEARNING_RATE*100 }\n",
    "            ]\n",
    "optimizer = torch.optim.SGD(params, momentum=0.9, weight_decay=1e-3)   \n",
    "scheduler = optim.lr_scheduler.ExponentialLR(optimizer, gamma=0.99)"
   ]
  },
  {
   "cell_type": "code",
   "execution_count": null,
   "id": "1f439fa7",
   "metadata": {},
   "outputs": [],
   "source": [
    "# train from checkpoint\n",
    "if CHECKPOINT_PATH:\n",
    "    if os.path.isfile(CHECKPOINT_PATH):\n",
    "        print(\"=> loading checkpoint '{}'\".format(CHECKPOINT_PATH))\n",
    "        checkpoint = torch.load(CHECKPOINT_PATH)\n",
    "        model.load_state_dict(checkpoint['state_dict'])\n",
    "        optimizer.load_state_dict(checkpoint['optimizer'])\n",
    "        print(\"=> loaded checkpoint '{}' (epoch {})\"\n",
    "            .format(CHECKPOINT_PATH, checkpoint['epoch']))\n",
    "\n",
    "# getting data \n",
    "training_dataset = BrainS18Dataset(DATA_FOLDER, TRAINING_DATA_LIST, INPUT_D, INPUT_H, INPUT_W, phase='train')\n",
    "data_loader = DataLoader(training_dataset, batch_size=BATCH_SIZE, shuffle=True, num_workers=NUM_WORKERS, pin_memory=PIN_MEMORY)"
   ]
  },
  {
   "cell_type": "code",
   "execution_count": null,
   "id": "63420212",
   "metadata": {},
   "outputs": [],
   "source": [
    "train_3d_cnn(data_loader, model, optimizer, scheduler, \n",
    "        NUM_EPOCHS, SAVE_INTERVALS, SAVE_FOLDER, NO_CUDA) "
   ]
  }
 ],
 "metadata": {
  "kernelspec": {
   "display_name": "medicalnet_env",
   "language": "python",
   "name": "python3"
  },
  "language_info": {
   "name": "python",
   "version": "3.11.6"
  }
 },
 "nbformat": 4,
 "nbformat_minor": 5
}
