{
 "cells": [
  {
   "cell_type": "code",
   "execution_count": null,
   "id": "09900990",
   "metadata": {},
   "outputs": [],
   "source": [
    "import torch\n",
    "import numpy as np\n",
    "from torch.utils.data import DataLoader\n",
    "import torch.nn.functional as F\n",
    "from scipy import ndimage\n",
    "import nibabel as nib\n",
    "import sys\n",
    "import os\n",
    "import numpy as np\n",
    "\n",
    "import spinecnn_CONFIG\n",
    "from utils.file_process import load_lines\n",
    "from datasets.brains18 import BrainS18Dataset\n",
    "from model_zoo.builder import generate_model\n",
    "from evaluation.testing import test_3d_cnn, calculate_segmentation_dice\n",
    "from evaluation.visualization import plot_3d_masks_marching_cubes"
   ]
  },
  {
   "cell_type": "code",
   "execution_count": null,
   "id": "115d2872",
   "metadata": {},
   "outputs": [],
   "source": [
    "NO_CUDA = spinecnn_CONFIG.NO_CUDA\n",
    "DATA_FOLDER = spinecnn_CONFIG.DATA_FOLDER\n",
    "CHECKPOINT_PATH = spinecnn_CONFIG.CHECKPOINT_PATH\n",
    "TESTING_DATA_LIST = spinecnn_CONFIG.TESTING_DATA_LIST\n",
    "NUM_CLASSES = spinecnn_CONFIG.NUM_CLASSES\n",
    "MODEL_TYPE = spinecnn_CONFIG.MODEL_TYPE\n",
    "MODEL_DEPTH = spinecnn_CONFIG.MODEL_DEPTH\n",
    "INPUT_W = spinecnn_CONFIG.INPUT_W\n",
    "INPUT_H = spinecnn_CONFIG.INPUT_H\n",
    "INPUT_D = spinecnn_CONFIG.INPUT_D\n",
    "RESNET_SHORTCUT = spinecnn_CONFIG.RESNET_SHORTCUT\n",
    "PRETRAIN_PATH = spinecnn_CONFIG.PRETRAIN_PATH\n",
    "GPU_ID = spinecnn_CONFIG.GPU_ID\n",
    "NEW_LAYER_NAMES = spinecnn_CONFIG.NEW_LAYER_NAMES"
   ]
  },
  {
   "cell_type": "code",
   "execution_count": null,
   "id": "0ed3b7a5",
   "metadata": {},
   "outputs": [],
   "source": [
    "if not NO_CUDA:\n",
    "    print(\"Using GPU for testing\")\n",
    "else:\n",
    "    print(\"Using CPU for testing\")\n",
    "\n",
    "# getting model\n",
    "training_checkpoint_path = torch.load(CHECKPOINT_PATH) # selected training checkpoint\n",
    "model, parameters = generate_model(MODEL_TYPE, MODEL_DEPTH,\n",
    "            INPUT_W, INPUT_H, INPUT_D, NUM_CLASSES,\n",
    "            NEW_LAYER_NAMES, PRETRAIN_PATH,\n",
    "            RESNET_SHORTCUT, NO_CUDA, GPU_ID,\n",
    "            model_phase='test')\n",
    "model.load_state_dict(training_checkpoint_path['state_dict'])"
   ]
  },
  {
   "cell_type": "code",
   "execution_count": null,
   "id": "0c0d26ae",
   "metadata": {},
   "outputs": [],
   "source": [
    "# data tensor\n",
    "testing_data = BrainS18Dataset(DATA_FOLDER, TESTING_DATA_LIST, INPUT_D, INPUT_H, INPUT_W, phase='test')\n",
    "data_loader = DataLoader(testing_data, batch_size=1, shuffle=False, num_workers=1, pin_memory=False) # temporary"
   ]
  },
  {
   "cell_type": "code",
   "execution_count": null,
   "id": "02c5e78a",
   "metadata": {},
   "outputs": [],
   "source": [
    "# testing\n",
    "test_img_names = [info.split(\" \")[0] for info in load_lines(TESTING_DATA_LIST)]\n",
    "output_masks = test_3d_cnn(data_loader, model, test_img_names)\n",
    "np.save('output_mask.npy', output_masks[0])  # save output masks for further evaluation"
   ]
  },
  {
   "cell_type": "code",
   "execution_count": null,
   "id": "ba1f2f14",
   "metadata": {},
   "outputs": [],
   "source": [
    "# evaluation: calculate dice \n",
    "label_names = [info.split(\" \")[1] for info in load_lines(TESTING_DATA_LIST)]\n",
    "Nimg = len(label_names)\n",
    "dices = np.zeros([Nimg, NUM_CLASSES])\n",
    "for idx in range(Nimg):\n",
    "    label = nib.load(os.path.join(DATA_FOLDER, label_names[idx]))\n",
    "    label = label.get_fdata()\n",
    "    dices[idx, :] = calculate_segmentation_dice(output_masks[idx], label, range(NUM_CLASSES))\n",
    "\n",
    "# print result\n",
    "for idx in range(0, NUM_CLASSES):\n",
    "    mean_dice_per_task = np.mean(dices[:, idx])\n",
    "    print('mean dice for class-{} is {}'.format(idx, mean_dice_per_task))   "
   ]
  },
  {
   "cell_type": "code",
   "execution_count": null,
   "id": "8c045ad9",
   "metadata": {},
   "outputs": [],
   "source": [
    "# visualization\n",
    "mask_to_view = output_masks[0]\n",
    "plot_3d_masks_marching_cubes(mask_to_view)"
   ]
  }
 ],
 "metadata": {
  "kernelspec": {
   "display_name": "medicalnet_env",
   "language": "python",
   "name": "python3"
  },
  "language_info": {
   "name": "python",
   "version": "3.11.6"
  }
 },
 "nbformat": 4,
 "nbformat_minor": 5
}
